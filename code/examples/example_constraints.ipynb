{
 "cells": [
  {
   "cell_type": "code",
   "execution_count": null,
   "id": "a52c8453",
   "metadata": {},
   "outputs": [],
   "source": [
    "import getdist \n",
    "from getdist.gaussian_mixtures import GaussianND\n",
    "from getdist import plots\n",
    "import matplotlib.pyplot as plt\n",
    "import numpy as np\n",
    "import os\n",
    "import sys \n",
    "sys.path.append( '/Users/asabyr/Documents/tSZ_NG/code/forecast/')\n",
    "sys.path.append( '/Users/asabyr/Documents/tSZ_NG/code/general/')\n",
    "\n",
    "from fisher import Fisher\n",
    "from fisher_funcs import *\n",
    "\n",
    "plot_params= {\n",
    "    'figure.figsize': (10,5),\n",
    "    'axes.labelsize': 20,\n",
    "    'axes.grid': False,\n",
    "    'grid.alpha': 0.25,\n",
    "    'xtick.labelsize': 20,\n",
    "    'ytick.labelsize': 20,\n",
    "    'legend.fontsize': 15,\n",
    "    'legend.frameon':False\n",
    "}\n",
    "plt.rcParams.update(plot_params)\n",
    "plt.rcParams.update({\n",
    "    \"text.usetex\": True,\n",
    "    \"font.family\": \"serif\",\n",
    "    \"font.serif\": \"Roman\",\n",
    "})\n",
    "\n"
   ]
  },
  {
   "cell_type": "markdown",
   "id": "bcbcddc1",
   "metadata": {},
   "source": [
    "# Example computing constraints from both the suite and Fisher\n",
    "(+ convergence of fisher errors)"
   ]
  },
  {
   "cell_type": "markdown",
   "id": "1f18671f",
   "metadata": {},
   "source": [
    "## suite"
   ]
  },
  {
   "cell_type": "code",
   "execution_count": null,
   "id": "b7df26b0",
   "metadata": {},
   "outputs": [],
   "source": [
    "from constraints import *\n",
    "MF_results_all=Constraints(prefix='20bin_1to3sigma',stat='MF_V0_V1_V2', \n",
    "                       stat_dir='/Users/asabyr/Documents/tSZ_NG/suite_constraints/MF_V0_V1_V2/', \n",
    "                       n_grid_points=1000, \n",
    "                 interpolator=CloughTocher2DInterpolator, \n",
    "                       fid_Nsims=34560, test_interpolator=True)\n",
    "MF_results_all.likelihood_grid()\n",
    "lims_MF_all, params_MF_all=MF_results_all.compute_contours()"
   ]
  },
  {
   "cell_type": "markdown",
   "id": "fbb4411e",
   "metadata": {},
   "source": [
    "## Fisher"
   ]
  },
  {
   "cell_type": "code",
   "execution_count": null,
   "id": "879e194c",
   "metadata": {},
   "outputs": [],
   "source": [
    "#need to define covariance & directories\n",
    "cov_MF_file=np.load(\"../../../tSZ_NG/suite_constraints/MF_V0_V1_V2/20bin_1to3sigma_MF_V0_V1_V2_Oc_0.264_s8_0.811.npy\", allow_pickle=True).item()\n",
    "cov_MF=cov_MF_file['cov_20bin_1to3sigma_MF_V0_V1_V2']\n"
   ]
  },
  {
   "cell_type": "code",
   "execution_count": null,
   "id": "1aa614c6",
   "metadata": {},
   "outputs": [],
   "source": [
    "high_folder_1percent={}\n",
    "high_folder_1percent['Oc']='/Users/asabyr/Documents/tSZ_NG_extra/fisher/1percent/Oc_0.26664_s8_0.811/'\n",
    "high_folder_1percent['s8']='/Users/asabyr/Documents/tSZ_NG_extra/fisher/1percent/Oc_0.264_s8_0.81911/'\n",
    "\n",
    "low_folder_1percent={}\n",
    "low_folder_1percent['Oc']='/Users/asabyr/Documents/tSZ_NG_extra/fisher/1percent/Oc_0.26136_s8_0.811/'\n",
    "low_folder_1percent['s8']='/Users/asabyr/Documents/tSZ_NG_extra/fisher/1percent/Oc_0.264_s8_0.80289/'\n",
    "\n",
    "dtheta_1percent=get_dtheta(high_folder_1percent, low_folder_1percent)"
   ]
  },
  {
   "cell_type": "code",
   "execution_count": null,
   "id": "b5f1d3b0",
   "metadata": {},
   "outputs": [],
   "source": [
    "high_folder_05percent={}\n",
    "high_folder_05percent['Oc']='/Users/asabyr/Documents/tSZ_NG_extra/fisher/0pt5percent/Oc_0.26532_s8_0.811/'\n",
    "high_folder_05percent['s8']='/Users/asabyr/Documents/tSZ_NG_extra/fisher/0pt5percent/Oc_0.264_s8_0.81506/'\n",
    "\n",
    "low_folder_05percent={}\n",
    "low_folder_05percent['Oc']='/Users/asabyr/Documents/tSZ_NG_extra/fisher/0pt5percent/Oc_0.26268_s8_0.811/'\n",
    "low_folder_05percent['s8']='/Users/asabyr/Documents/tSZ_NG_extra/fisher/0pt5percent/Oc_0.264_s8_0.80694/'\n",
    "\n",
    "dtheta_05percent=get_dtheta(high_folder_05percent, low_folder_05percent)"
   ]
  },
  {
   "cell_type": "code",
   "execution_count": null,
   "id": "491ec546",
   "metadata": {},
   "outputs": [],
   "source": [
    "high_folder_3percent={}\n",
    "high_folder_3percent['Oc']='/Users/asabyr/Documents/tSZ_NG_extra/fisher/3percent/Oc_0.27192_s8_0.811/'\n",
    "high_folder_3percent['s8']='/Users/asabyr/Documents/tSZ_NG_extra/fisher/3percent/Oc_0.264_s8_0.83533/'\n",
    "\n",
    "low_folder_3percent={}\n",
    "low_folder_3percent['Oc']='/Users/asabyr/Documents/tSZ_NG_extra/fisher/3percent/Oc_0.25608_s8_0.811/'\n",
    "low_folder_3percent['s8']='/Users/asabyr/Documents/tSZ_NG_extra/fisher/3percent/Oc_0.264_s8_0.78667/'\n",
    "dtheta_3percent=get_dtheta(high_folder_3percent, low_folder_3percent)\n"
   ]
  },
  {
   "cell_type": "markdown",
   "id": "9b33c515",
   "metadata": {},
   "source": [
    "### wrt to sims"
   ]
  },
  {
   "cell_type": "code",
   "execution_count": null,
   "id": "424c29d6",
   "metadata": {},
   "outputs": [],
   "source": [
    "nsims=np.concatenate((np.arange(1000,5500,500),[5112]))\n",
    "\n",
    "MF_fisher_1percent_nsims=Fisher(cov_MF, np.array(['Oc','s8']),\n",
    "            high_folder_1percent,low_folder_1percent, d_theta=dtheta_1percent, deriv_type='central_diff', \n",
    "                 prefix=np.array(['20bin_1to3sigma_fisher_MF']),\n",
    "                 which_stats='MF_V0_V1_V2',tot_dim=60, Nsims=nsims)\n",
    "\n",
    "MF_cov_1percent_nsims=MF_fisher_1percent_nsims.compute_fisher()\n",
    "\n",
    "MF_fisher_05percent_nsims=Fisher(cov_MF, np.array(['Oc','s8']),\n",
    "            high_folder_05percent,low_folder_05percent, d_theta=dtheta_05percent, deriv_type='central_diff', \n",
    "                 prefix=np.array(['20bin_1to3sigma_fisher_MF']),\n",
    "                 which_stats='MF_V0_V1_V2',tot_dim=60, Nsims=nsims)\n",
    "\n",
    "MF_cov_05percent_nsims=MF_fisher_05percent_nsims.compute_fisher()\n",
    "\n",
    "MF_fisher_3percent_nsims=Fisher(cov_MF, np.array(['Oc','s8']),\n",
    "            high_folder_3percent,low_folder_3percent, d_theta=dtheta_3percent, deriv_type='central_diff', \n",
    "                 prefix=np.array(['20bin_1to3sigma_fisher_MF']),\n",
    "                 which_stats='MF_V0_V1_V2',tot_dim=60, Nsims=nsims)\n",
    "\n",
    "MF_cov_3percent_nsims=MF_fisher_3percent_nsims.compute_fisher()"
   ]
  },
  {
   "cell_type": "markdown",
   "id": "a64ff72d",
   "metadata": {},
   "source": [
    "## just using all sims"
   ]
  },
  {
   "cell_type": "code",
   "execution_count": null,
   "id": "7a4400ac",
   "metadata": {},
   "outputs": [],
   "source": [
    "MF_fisher_1percent_full=Fisher(cov_MF, np.array(['Oc','s8']),\n",
    "            high_folder_1percent,low_folder_1percent, d_theta=dtheta_1percent, deriv_type='central_diff', \n",
    "                 prefix=np.array(['20bin_1to3sigma_fisher_MF']),\n",
    "                 which_stats='MF_V0_V1_V2',tot_dim=60)\n",
    "\n",
    "MF_cov_1percent_full=MF_fisher_1percent_full.compute_fisher()\n",
    "\n",
    "a_fisher_1percent_full,b_fisher_1percent_full,theta_fisher_1percent_full,area_fisher_1percent_full=get_fisher_params(MF_fisher_1percent_full.theta_cov)\n"
   ]
  },
  {
   "cell_type": "code",
   "execution_count": null,
   "id": "04e2ce3e",
   "metadata": {},
   "outputs": [],
   "source": [
    "assert np.array_equal(MF_fisher_1percent_nsims.theta_cov[:,:,-1], MF_fisher_1percent_full.theta_cov[:,:,-1])\n",
    "#these should be the same"
   ]
  },
  {
   "cell_type": "markdown",
   "id": "47249008",
   "metadata": {},
   "source": [
    "## PLOT"
   ]
  },
  {
   "cell_type": "code",
   "execution_count": null,
   "id": "54128ef7",
   "metadata": {},
   "outputs": [],
   "source": [
    "alpha_68=np.sqrt(2.3)\n",
    "fig, (ax1, ax2, ax3) = plt.subplots(1,3, figsize=(20,5), constrained_layout=True)\n",
    "ax1.plot(nsims, np.sqrt(MF_fisher_05percent_nsims.theta_cov[0,0,:])/np.sqrt(MF_fisher_05percent_nsims.theta_cov[0,0,-1]), label=r'$\\delta_\\theta=0.5\\%$', color='darkmagenta', alpha=0.3)\n",
    "ax1.plot(nsims, np.sqrt(MF_fisher_1percent_nsims.theta_cov[0,0,:])/np.sqrt(MF_fisher_1percent_nsims.theta_cov[0,0,-1]), label=r'$\\delta_\\theta=1\\%$', color='darkmagenta', alpha=0.6, ls='--')\n",
    "ax1.plot(nsims, np.sqrt(MF_fisher_3percent_nsims.theta_cov[0,0,:])/np.sqrt(MF_fisher_3percent_nsims.theta_cov[0,0,-1]), label=r'$\\delta_\\theta=3\\%$', color='darkmagenta', alpha=0.9, ls='-.')\n",
    "ax1.hlines(1.05,nsims[0], nsims[-1],  color='black', ls='--')\n",
    "ax1.hlines(0.95,nsims[0], nsims[-1],  color='black', ls='--')\n",
    "\n",
    "ax1.set_xlabel(r'N$_{\\rm sims}$', fontsize=25)\n",
    "ax1.set_ylabel(r'$\\sigma_{\\Omega_{c}}/\\sigma_{\\Omega_{c}}^{5112}$', fontsize=25)\n",
    "ax1.legend()\n",
    "\n",
    "ax2.plot(nsims, np.sqrt(MF_fisher_05percent_nsims.theta_cov[1,1,:])/np.sqrt(MF_fisher_05percent_nsims.theta_cov[1,1,-1]), label=r'$\\delta_\\theta=0.5\\%$', color='darkmagenta', alpha=0.3)\n",
    "ax2.plot(nsims, np.sqrt(MF_fisher_1percent_nsims.theta_cov[1,1,:])/np.sqrt(MF_fisher_05percent_nsims.theta_cov[1,1,-1]), label=r'$\\delta_\\theta=1\\%$', color='darkmagenta', alpha=0.6, ls='--')\n",
    "ax2.plot(nsims, np.sqrt(MF_fisher_3percent_nsims.theta_cov[1,1,:])/np.sqrt(MF_fisher_05percent_nsims.theta_cov[1,1,-1]), label=r'$\\delta_\\theta=3\\%$', color='darkmagenta', alpha=0.9, ls='-.')\n",
    "ax2.hlines(1.05,nsims[0], nsims[-1],  color='black', ls='--')\n",
    "ax2.hlines(0.95,nsims[0], nsims[-1],  color='black', ls='--')\n",
    "\n",
    "ax2.set_xlabel(r'N$_{\\rm sims}$', fontsize=25)\n",
    "ax2.set_ylabel(r'$\\sigma_{\\sigma_{8}}/\\sigma_{\\sigma_{8}}^{5112}$', fontsize=25)\n",
    "ax2.legend(bbox_to_anchor=(0.5, 0., 0.5, 0.5))\n",
    "\n",
    "from matplotlib.patches import Ellipse\n",
    "MF_all=ax3.contour(MF_results_all.grid_X, MF_results_all.grid_Y,  MF_results_all.Ls,[lims_MF_all[0]], colors='magenta')\n",
    "MF_all_legend,_ = MF_all.legend_elements()\n",
    "\n",
    "ellipse_full = Ellipse((THETA_FID['Oc'],THETA_FID['s8']), a_fisher_1percent_full*2*alpha_68, b_fisher_1percent_full*2*alpha_68, angle=theta_fisher_1percent_full*180/np.pi,\n",
    "                 color='purple', alpha=0.1, label='Fisher')\n",
    "ax3.add_artist(ellipse_full)\n",
    "ax3.scatter(MF_results_all.cosmologies[:,0],MF_results_all.cosmologies[:,1], marker='o', color='grey')\n",
    "ax3.scatter(0.264, 0.811, marker='d', color='red')\n",
    "ax3.legend([MF_all_legend[0], ellipse_full],\n",
    "           ['full suite', r'Fisher, $\\delta_{\\theta}=1\\%$'],\n",
    "           fontsize=15, loc='upper right')\n",
    "\n",
    "# # plt.legend()\n",
    "ax3.set_xlabel(r\"$\\Omega_c$\", fontsize=25)\n",
    "ax3.set_ylabel(r\"$\\sigma_8$\", fontsize=25)\n",
    "ax3.set_ylim([0.8050,0.8175])\n",
    "ax3.set_xlim([0.25,0.28])"
   ]
  }
 ],
 "metadata": {
  "kernelspec": {
   "display_name": "tSZ",
   "language": "python",
   "name": "tsz"
  },
  "language_info": {
   "codemirror_mode": {
    "name": "ipython",
    "version": 3
   },
   "file_extension": ".py",
   "mimetype": "text/x-python",
   "name": "python",
   "nbconvert_exporter": "python",
   "pygments_lexer": "ipython3",
   "version": "3.10.4"
  }
 },
 "nbformat": 4,
 "nbformat_minor": 5
}
